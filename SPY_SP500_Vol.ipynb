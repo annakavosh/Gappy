{
 "cells": [
  {
   "cell_type": "code",
   "execution_count": 1,
   "id": "7657294b-4af5-4625-8ce0-cb2fcec3bc4f",
   "metadata": {},
   "outputs": [],
   "source": [
    "#!pip install yfinance\n",
    "import yfinance as yf\n",
    "import pandas as pd\n",
    "from datetime import datetime, timedelta\n",
    "import matplotlib.pyplot as plt\n",
    "import time\n",
    "import numpy as np"
   ]
  },
  {
   "cell_type": "code",
   "execution_count": 2,
   "id": "a0ff2f11-140a-4238-97c2-2d6a8a1e1fa7",
   "metadata": {},
   "outputs": [
    {
     "name": "stdout",
     "output_type": "stream",
     "text": [
      "YF.download() has changed argument auto_adjust default to True\n"
     ]
    },
    {
     "name": "stderr",
     "output_type": "stream",
     "text": [
      "[*********************100%***********************]  1 of 1 completed\n",
      "[*********************100%***********************]  1 of 1 completed"
     ]
    },
    {
     "name": "stdout",
     "output_type": "stream",
     "text": [
      "0.3395273685455322\n"
     ]
    },
    {
     "name": "stderr",
     "output_type": "stream",
     "text": [
      "\n"
     ]
    }
   ],
   "source": [
    "end_date = datetime.today()\n",
    "start_date = end_date - timedelta(days=365)#252 \n",
    "\n",
    "time_s = time.time()\n",
    "\n",
    "spy_data = yf.download(\"SPY\", start = start_date, end=end_date)\n",
    "sp500_data = yf.download(\"^GSPC\", start=start_date, end=end_date)\n",
    "\n",
    "time_e = time.time()\n",
    "time_t = time_e -time_s\n",
    "print(time_t)"
   ]
  },
  {
   "cell_type": "code",
   "execution_count": 3,
   "id": "80eb8114-01b6-4231-be4b-02d51c1ebf0c",
   "metadata": {},
   "outputs": [
    {
     "name": "stdout",
     "output_type": "stream",
     "text": [
      "             Close_SPY    High_SPY    Low_SPY    Open_SPY  Volume_SPY\n",
      "Date                                                                 \n",
      "2024-03-25  513.237793  514.402956  513.07977  513.267385    48512100\n",
      "            Close_^GSPC   High_^GSPC    Low_^GSPC  Open_^GSPC  Volume_^GSPC\n",
      "Date                                                                       \n",
      "2024-03-25  5218.189941  5229.089844  5216.089844  5219.52002    3331360000\n"
     ]
    }
   ],
   "source": [
    "spy_data.columns = [\"_\".join(col) for col in spy_data.columns]\n",
    "sp500_data.columns = [\"_\".join(col) for col in sp500_data.columns]\n",
    "print(spy_data.head(1))\n",
    "print(sp500_data.head(1))"
   ]
  },
  {
   "cell_type": "code",
   "execution_count": 5,
   "id": "38cbb338-26fa-4297-9ae2-b96ce9fce855",
   "metadata": {},
   "outputs": [
    {
     "name": "stdout",
     "output_type": "stream",
     "text": [
      "Close_SPY           0\n",
      "High_SPY            0\n",
      "Low_SPY             0\n",
      "Open_SPY            0\n",
      "Volume_SPY          0\n",
      "Daily Return SPY    1\n",
      "dtype: int64\n",
      "Close_^GSPC           0\n",
      "High_^GSPC            0\n",
      "Low_^GSPC             0\n",
      "Open_^GSPC            0\n",
      "Volume_^GSPC          0\n",
      "Daily Return SP500    1\n",
      "dtype: int64\n"
     ]
    }
   ],
   "source": [
    "\n",
    "print(spy_data.isnull().sum())\n",
    "print(sp500_data.isnull().sum())\n",
    "\n",
    "spy_data[\"Daily Return SPY\"] = spy_data[\"Close_SPY\"].pct_change()\n",
    "sp500_data[\"Daily Return SP500\"] = sp500_data[\"Close_^GSPC\"].pct_change()\n",
    "\n",
    "spy_data[\"Cumulative Return SPY\"] = (1 + spy_data[\"Daily Return SPY\"]).cumprod()-1\n",
    "sp500_data[\"Cumulative Return SP500\"] = (1 + sp500_data[\"Daily Return SP500\"]).cumprod()-1"
   ]
  },
  {
   "cell_type": "code",
   "execution_count": 6,
   "id": "b81980a8-e2d8-4400-b565-a4ab4b2883c2",
   "metadata": {},
   "outputs": [
    {
     "data": {
      "text/html": [
       "<div>\n",
       "<style scoped>\n",
       "    .dataframe tbody tr th:only-of-type {\n",
       "        vertical-align: middle;\n",
       "    }\n",
       "\n",
       "    .dataframe tbody tr th {\n",
       "        vertical-align: top;\n",
       "    }\n",
       "\n",
       "    .dataframe thead th {\n",
       "        text-align: right;\n",
       "    }\n",
       "</style>\n",
       "<table border=\"1\" class=\"dataframe\">\n",
       "  <thead>\n",
       "    <tr style=\"text-align: right;\">\n",
       "      <th></th>\n",
       "      <th>Close_SPY</th>\n",
       "      <th>High_SPY</th>\n",
       "      <th>Low_SPY</th>\n",
       "      <th>Open_SPY</th>\n",
       "      <th>Volume_SPY</th>\n",
       "      <th>Daily Return SPY</th>\n",
       "      <th>Cumulative Return SPY</th>\n",
       "    </tr>\n",
       "    <tr>\n",
       "      <th>Date</th>\n",
       "      <th></th>\n",
       "      <th></th>\n",
       "      <th></th>\n",
       "      <th></th>\n",
       "      <th></th>\n",
       "      <th></th>\n",
       "      <th></th>\n",
       "    </tr>\n",
       "  </thead>\n",
       "  <tbody>\n",
       "    <tr>\n",
       "      <th>2024-03-25</th>\n",
       "      <td>513.237793</td>\n",
       "      <td>514.402956</td>\n",
       "      <td>513.079770</td>\n",
       "      <td>513.267385</td>\n",
       "      <td>48512100</td>\n",
       "      <td>NaN</td>\n",
       "      <td>NaN</td>\n",
       "    </tr>\n",
       "    <tr>\n",
       "      <th>2024-03-26</th>\n",
       "      <td>512.289795</td>\n",
       "      <td>515.025002</td>\n",
       "      <td>511.884974</td>\n",
       "      <td>514.679364</td>\n",
       "      <td>65463700</td>\n",
       "      <td>-0.001847</td>\n",
       "      <td>-0.001847</td>\n",
       "    </tr>\n",
       "    <tr>\n",
       "      <th>2024-03-27</th>\n",
       "      <td>516.595032</td>\n",
       "      <td>516.634568</td>\n",
       "      <td>512.961287</td>\n",
       "      <td>515.153419</td>\n",
       "      <td>82999800</td>\n",
       "      <td>0.008404</td>\n",
       "      <td>0.006541</td>\n",
       "    </tr>\n",
       "    <tr>\n",
       "      <th>2024-03-28</th>\n",
       "      <td>516.496338</td>\n",
       "      <td>518.016962</td>\n",
       "      <td>516.210004</td>\n",
       "      <td>516.634593</td>\n",
       "      <td>96294900</td>\n",
       "      <td>-0.000191</td>\n",
       "      <td>0.006349</td>\n",
       "    </tr>\n",
       "    <tr>\n",
       "      <th>2024-04-01</th>\n",
       "      <td>515.597656</td>\n",
       "      <td>517.789787</td>\n",
       "      <td>514.422609</td>\n",
       "      <td>517.246712</td>\n",
       "      <td>62477500</td>\n",
       "      <td>-0.001740</td>\n",
       "      <td>0.004598</td>\n",
       "    </tr>\n",
       "  </tbody>\n",
       "</table>\n",
       "</div>"
      ],
      "text/plain": [
       "             Close_SPY    High_SPY     Low_SPY    Open_SPY  Volume_SPY  \\\n",
       "Date                                                                     \n",
       "2024-03-25  513.237793  514.402956  513.079770  513.267385    48512100   \n",
       "2024-03-26  512.289795  515.025002  511.884974  514.679364    65463700   \n",
       "2024-03-27  516.595032  516.634568  512.961287  515.153419    82999800   \n",
       "2024-03-28  516.496338  518.016962  516.210004  516.634593    96294900   \n",
       "2024-04-01  515.597656  517.789787  514.422609  517.246712    62477500   \n",
       "\n",
       "            Daily Return SPY  Cumulative Return SPY  \n",
       "Date                                                 \n",
       "2024-03-25               NaN                    NaN  \n",
       "2024-03-26         -0.001847              -0.001847  \n",
       "2024-03-27          0.008404               0.006541  \n",
       "2024-03-28         -0.000191               0.006349  \n",
       "2024-04-01         -0.001740               0.004598  "
      ]
     },
     "execution_count": 6,
     "metadata": {},
     "output_type": "execute_result"
    }
   ],
   "source": [
    "spy_data.head()"
   ]
  },
  {
   "cell_type": "code",
   "execution_count": 7,
   "id": "b6ff6e33-67db-4aca-ae13-dd832999a028",
   "metadata": {},
   "outputs": [
    {
     "data": {
      "text/html": [
       "<div>\n",
       "<style scoped>\n",
       "    .dataframe tbody tr th:only-of-type {\n",
       "        vertical-align: middle;\n",
       "    }\n",
       "\n",
       "    .dataframe tbody tr th {\n",
       "        vertical-align: top;\n",
       "    }\n",
       "\n",
       "    .dataframe thead th {\n",
       "        text-align: right;\n",
       "    }\n",
       "</style>\n",
       "<table border=\"1\" class=\"dataframe\">\n",
       "  <thead>\n",
       "    <tr style=\"text-align: right;\">\n",
       "      <th></th>\n",
       "      <th>Close_SPY</th>\n",
       "      <th>High_SPY</th>\n",
       "      <th>Low_SPY</th>\n",
       "      <th>Open_SPY</th>\n",
       "      <th>Volume_SPY</th>\n",
       "      <th>Daily Return SPY</th>\n",
       "      <th>Cumulative Return SPY</th>\n",
       "    </tr>\n",
       "  </thead>\n",
       "  <tbody>\n",
       "    <tr>\n",
       "      <th>count</th>\n",
       "      <td>249.000000</td>\n",
       "      <td>249.000000</td>\n",
       "      <td>249.000000</td>\n",
       "      <td>249.000000</td>\n",
       "      <td>2.490000e+02</td>\n",
       "      <td>248.000000</td>\n",
       "      <td>248.000000</td>\n",
       "    </tr>\n",
       "    <tr>\n",
       "      <th>mean</th>\n",
       "      <td>558.028543</td>\n",
       "      <td>560.724587</td>\n",
       "      <td>555.029198</td>\n",
       "      <td>558.198559</td>\n",
       "      <td>5.301046e+07</td>\n",
       "      <td>0.000417</td>\n",
       "      <td>0.087623</td>\n",
       "    </tr>\n",
       "    <tr>\n",
       "      <th>std</th>\n",
       "      <td>32.825469</td>\n",
       "      <td>32.764193</td>\n",
       "      <td>32.703993</td>\n",
       "      <td>32.813569</td>\n",
       "      <td>1.892895e+07</td>\n",
       "      <td>0.008614</td>\n",
       "      <td>0.063845</td>\n",
       "    </tr>\n",
       "    <tr>\n",
       "      <th>min</th>\n",
       "      <td>488.937042</td>\n",
       "      <td>494.170422</td>\n",
       "      <td>487.653362</td>\n",
       "      <td>491.573466</td>\n",
       "      <td>2.604870e+07</td>\n",
       "      <td>-0.029803</td>\n",
       "      <td>-0.047348</td>\n",
       "    </tr>\n",
       "    <tr>\n",
       "      <th>25%</th>\n",
       "      <td>533.358582</td>\n",
       "      <td>535.988210</td>\n",
       "      <td>531.248620</td>\n",
       "      <td>531.496275</td>\n",
       "      <td>3.871520e+07</td>\n",
       "      <td>-0.003248</td>\n",
       "      <td>0.040954</td>\n",
       "    </tr>\n",
       "    <tr>\n",
       "      <th>50%</th>\n",
       "      <td>558.391541</td>\n",
       "      <td>562.138970</td>\n",
       "      <td>554.647029</td>\n",
       "      <td>558.451008</td>\n",
       "      <td>4.730470e+07</td>\n",
       "      <td>0.001035</td>\n",
       "      <td>0.088472</td>\n",
       "    </tr>\n",
       "    <tr>\n",
       "      <th>75%</th>\n",
       "      <td>587.290710</td>\n",
       "      <td>592.158691</td>\n",
       "      <td>582.667210</td>\n",
       "      <td>588.140735</td>\n",
       "      <td>6.451390e+07</td>\n",
       "      <td>0.005761</td>\n",
       "      <td>0.144496</td>\n",
       "    </tr>\n",
       "    <tr>\n",
       "      <th>max</th>\n",
       "      <td>611.091675</td>\n",
       "      <td>611.390763</td>\n",
       "      <td>607.731787</td>\n",
       "      <td>609.705872</td>\n",
       "      <td>1.462674e+08</td>\n",
       "      <td>0.024865</td>\n",
       "      <td>0.190660</td>\n",
       "    </tr>\n",
       "  </tbody>\n",
       "</table>\n",
       "</div>"
      ],
      "text/plain": [
       "        Close_SPY    High_SPY     Low_SPY    Open_SPY    Volume_SPY  \\\n",
       "count  249.000000  249.000000  249.000000  249.000000  2.490000e+02   \n",
       "mean   558.028543  560.724587  555.029198  558.198559  5.301046e+07   \n",
       "std     32.825469   32.764193   32.703993   32.813569  1.892895e+07   \n",
       "min    488.937042  494.170422  487.653362  491.573466  2.604870e+07   \n",
       "25%    533.358582  535.988210  531.248620  531.496275  3.871520e+07   \n",
       "50%    558.391541  562.138970  554.647029  558.451008  4.730470e+07   \n",
       "75%    587.290710  592.158691  582.667210  588.140735  6.451390e+07   \n",
       "max    611.091675  611.390763  607.731787  609.705872  1.462674e+08   \n",
       "\n",
       "       Daily Return SPY  Cumulative Return SPY  \n",
       "count        248.000000             248.000000  \n",
       "mean           0.000417               0.087623  \n",
       "std            0.008614               0.063845  \n",
       "min           -0.029803              -0.047348  \n",
       "25%           -0.003248               0.040954  \n",
       "50%            0.001035               0.088472  \n",
       "75%            0.005761               0.144496  \n",
       "max            0.024865               0.190660  "
      ]
     },
     "execution_count": 7,
     "metadata": {},
     "output_type": "execute_result"
    }
   ],
   "source": [
    "spy_data.describe()"
   ]
  },
  {
   "cell_type": "code",
   "execution_count": 8,
   "id": "37abb34d-51e9-4431-b73b-274263041507",
   "metadata": {},
   "outputs": [
    {
     "data": {
      "text/html": [
       "<div>\n",
       "<style scoped>\n",
       "    .dataframe tbody tr th:only-of-type {\n",
       "        vertical-align: middle;\n",
       "    }\n",
       "\n",
       "    .dataframe tbody tr th {\n",
       "        vertical-align: top;\n",
       "    }\n",
       "\n",
       "    .dataframe thead th {\n",
       "        text-align: right;\n",
       "    }\n",
       "</style>\n",
       "<table border=\"1\" class=\"dataframe\">\n",
       "  <thead>\n",
       "    <tr style=\"text-align: right;\">\n",
       "      <th></th>\n",
       "      <th>Close_^GSPC</th>\n",
       "      <th>High_^GSPC</th>\n",
       "      <th>Low_^GSPC</th>\n",
       "      <th>Open_^GSPC</th>\n",
       "      <th>Volume_^GSPC</th>\n",
       "      <th>Daily Return SP500</th>\n",
       "      <th>Cumulative Return SP500</th>\n",
       "    </tr>\n",
       "    <tr>\n",
       "      <th>Date</th>\n",
       "      <th></th>\n",
       "      <th></th>\n",
       "      <th></th>\n",
       "      <th></th>\n",
       "      <th></th>\n",
       "      <th></th>\n",
       "      <th></th>\n",
       "    </tr>\n",
       "  </thead>\n",
       "  <tbody>\n",
       "    <tr>\n",
       "      <th>2024-03-25</th>\n",
       "      <td>5218.189941</td>\n",
       "      <td>5229.089844</td>\n",
       "      <td>5216.089844</td>\n",
       "      <td>5219.520020</td>\n",
       "      <td>3331360000</td>\n",
       "      <td>NaN</td>\n",
       "      <td>NaN</td>\n",
       "    </tr>\n",
       "    <tr>\n",
       "      <th>2024-03-26</th>\n",
       "      <td>5203.580078</td>\n",
       "      <td>5235.160156</td>\n",
       "      <td>5203.419922</td>\n",
       "      <td>5228.850098</td>\n",
       "      <td>3871790000</td>\n",
       "      <td>-0.002800</td>\n",
       "      <td>-0.002800</td>\n",
       "    </tr>\n",
       "    <tr>\n",
       "      <th>2024-03-27</th>\n",
       "      <td>5248.490234</td>\n",
       "      <td>5249.259766</td>\n",
       "      <td>5213.919922</td>\n",
       "      <td>5226.310059</td>\n",
       "      <td>3850500000</td>\n",
       "      <td>0.008631</td>\n",
       "      <td>0.005807</td>\n",
       "    </tr>\n",
       "    <tr>\n",
       "      <th>2024-03-28</th>\n",
       "      <td>5254.350098</td>\n",
       "      <td>5264.850098</td>\n",
       "      <td>5245.819824</td>\n",
       "      <td>5248.029785</td>\n",
       "      <td>3998270000</td>\n",
       "      <td>0.001116</td>\n",
       "      <td>0.006930</td>\n",
       "    </tr>\n",
       "    <tr>\n",
       "      <th>2024-04-01</th>\n",
       "      <td>5243.770020</td>\n",
       "      <td>5263.950195</td>\n",
       "      <td>5229.200195</td>\n",
       "      <td>5257.970215</td>\n",
       "      <td>3325930000</td>\n",
       "      <td>-0.002014</td>\n",
       "      <td>0.004902</td>\n",
       "    </tr>\n",
       "  </tbody>\n",
       "</table>\n",
       "</div>"
      ],
      "text/plain": [
       "            Close_^GSPC   High_^GSPC    Low_^GSPC   Open_^GSPC  Volume_^GSPC  \\\n",
       "Date                                                                           \n",
       "2024-03-25  5218.189941  5229.089844  5216.089844  5219.520020    3331360000   \n",
       "2024-03-26  5203.580078  5235.160156  5203.419922  5228.850098    3871790000   \n",
       "2024-03-27  5248.490234  5249.259766  5213.919922  5226.310059    3850500000   \n",
       "2024-03-28  5254.350098  5264.850098  5245.819824  5248.029785    3998270000   \n",
       "2024-04-01  5243.770020  5263.950195  5229.200195  5257.970215    3325930000   \n",
       "\n",
       "            Daily Return SP500  Cumulative Return SP500  \n",
       "Date                                                     \n",
       "2024-03-25                 NaN                      NaN  \n",
       "2024-03-26           -0.002800                -0.002800  \n",
       "2024-03-27            0.008631                 0.005807  \n",
       "2024-03-28            0.001116                 0.006930  \n",
       "2024-04-01           -0.002014                 0.004902  "
      ]
     },
     "execution_count": 8,
     "metadata": {},
     "output_type": "execute_result"
    }
   ],
   "source": [
    "sp500_data.head()"
   ]
  },
  {
   "cell_type": "code",
   "execution_count": 9,
   "id": "46b24fc7-251f-4dee-9910-34c391435041",
   "metadata": {},
   "outputs": [
    {
     "data": {
      "text/html": [
       "<div>\n",
       "<style scoped>\n",
       "    .dataframe tbody tr th:only-of-type {\n",
       "        vertical-align: middle;\n",
       "    }\n",
       "\n",
       "    .dataframe tbody tr th {\n",
       "        vertical-align: top;\n",
       "    }\n",
       "\n",
       "    .dataframe thead th {\n",
       "        text-align: right;\n",
       "    }\n",
       "</style>\n",
       "<table border=\"1\" class=\"dataframe\">\n",
       "  <thead>\n",
       "    <tr style=\"text-align: right;\">\n",
       "      <th></th>\n",
       "      <th>Close_^GSPC</th>\n",
       "      <th>High_^GSPC</th>\n",
       "      <th>Low_^GSPC</th>\n",
       "      <th>Open_^GSPC</th>\n",
       "      <th>Volume_^GSPC</th>\n",
       "      <th>Daily Return SP500</th>\n",
       "      <th>Cumulative Return SP500</th>\n",
       "    </tr>\n",
       "  </thead>\n",
       "  <tbody>\n",
       "    <tr>\n",
       "      <th>count</th>\n",
       "      <td>249.000000</td>\n",
       "      <td>249.000000</td>\n",
       "      <td>249.000000</td>\n",
       "      <td>249.000000</td>\n",
       "      <td>2.490000e+02</td>\n",
       "      <td>248.000000</td>\n",
       "      <td>248.000000</td>\n",
       "    </tr>\n",
       "    <tr>\n",
       "      <th>mean</th>\n",
       "      <td>5637.917312</td>\n",
       "      <td>5665.303882</td>\n",
       "      <td>5608.584333</td>\n",
       "      <td>5639.343960</td>\n",
       "      <td>4.088664e+09</td>\n",
       "      <td>0.000371</td>\n",
       "      <td>0.080760</td>\n",
       "    </tr>\n",
       "    <tr>\n",
       "      <th>std</th>\n",
       "      <td>314.586015</td>\n",
       "      <td>313.776537</td>\n",
       "      <td>313.458683</td>\n",
       "      <td>314.113677</td>\n",
       "      <td>8.981018e+08</td>\n",
       "      <td>0.008679</td>\n",
       "      <td>0.060190</td>\n",
       "    </tr>\n",
       "    <tr>\n",
       "      <th>min</th>\n",
       "      <td>4967.229980</td>\n",
       "      <td>5019.020020</td>\n",
       "      <td>4953.560059</td>\n",
       "      <td>4987.330078</td>\n",
       "      <td>1.757720e+09</td>\n",
       "      <td>-0.029969</td>\n",
       "      <td>-0.048093</td>\n",
       "    </tr>\n",
       "    <tr>\n",
       "      <th>25%</th>\n",
       "      <td>5399.220215</td>\n",
       "      <td>5432.390137</td>\n",
       "      <td>5376.979980</td>\n",
       "      <td>5376.979980</td>\n",
       "      <td>3.552750e+09</td>\n",
       "      <td>-0.003527</td>\n",
       "      <td>0.036014</td>\n",
       "    </tr>\n",
       "    <tr>\n",
       "      <th>50%</th>\n",
       "      <td>5634.580078</td>\n",
       "      <td>5666.939941</td>\n",
       "      <td>5603.100098</td>\n",
       "      <td>5637.770020</td>\n",
       "      <td>3.869520e+09</td>\n",
       "      <td>0.000993</td>\n",
       "      <td>0.079799</td>\n",
       "    </tr>\n",
       "    <tr>\n",
       "      <th>75%</th>\n",
       "      <td>5918.250000</td>\n",
       "      <td>5960.609863</td>\n",
       "      <td>5868.859863</td>\n",
       "      <td>5919.740234</td>\n",
       "      <td>4.458760e+09</td>\n",
       "      <td>0.005525</td>\n",
       "      <td>0.134675</td>\n",
       "    </tr>\n",
       "    <tr>\n",
       "      <th>max</th>\n",
       "      <td>6144.149902</td>\n",
       "      <td>6147.430176</td>\n",
       "      <td>6111.149902</td>\n",
       "      <td>6134.500000</td>\n",
       "      <td>9.367460e+09</td>\n",
       "      <td>0.025296</td>\n",
       "      <td>0.177448</td>\n",
       "    </tr>\n",
       "  </tbody>\n",
       "</table>\n",
       "</div>"
      ],
      "text/plain": [
       "       Close_^GSPC   High_^GSPC    Low_^GSPC   Open_^GSPC  Volume_^GSPC  \\\n",
       "count   249.000000   249.000000   249.000000   249.000000  2.490000e+02   \n",
       "mean   5637.917312  5665.303882  5608.584333  5639.343960  4.088664e+09   \n",
       "std     314.586015   313.776537   313.458683   314.113677  8.981018e+08   \n",
       "min    4967.229980  5019.020020  4953.560059  4987.330078  1.757720e+09   \n",
       "25%    5399.220215  5432.390137  5376.979980  5376.979980  3.552750e+09   \n",
       "50%    5634.580078  5666.939941  5603.100098  5637.770020  3.869520e+09   \n",
       "75%    5918.250000  5960.609863  5868.859863  5919.740234  4.458760e+09   \n",
       "max    6144.149902  6147.430176  6111.149902  6134.500000  9.367460e+09   \n",
       "\n",
       "       Daily Return SP500  Cumulative Return SP500  \n",
       "count          248.000000               248.000000  \n",
       "mean             0.000371                 0.080760  \n",
       "std              0.008679                 0.060190  \n",
       "min             -0.029969                -0.048093  \n",
       "25%             -0.003527                 0.036014  \n",
       "50%              0.000993                 0.079799  \n",
       "75%              0.005525                 0.134675  \n",
       "max              0.025296                 0.177448  "
      ]
     },
     "execution_count": 9,
     "metadata": {},
     "output_type": "execute_result"
    }
   ],
   "source": [
    "sp500_data.describe()"
   ]
  },
  {
   "cell_type": "code",
   "execution_count": 10,
   "id": "a7b7135f-24cb-464c-b087-7794f522aaa3",
   "metadata": {},
   "outputs": [
    {
     "name": "stdout",
     "output_type": "stream",
     "text": [
      "SPY daily returns (past year):\n",
      "count    248.000000\n",
      "mean       0.000417\n",
      "std        0.008614\n",
      "min       -0.029803\n",
      "25%       -0.003248\n",
      "50%        0.001035\n",
      "75%        0.005761\n",
      "max        0.024865\n",
      "Name: Daily Return SPY, dtype: float64\n"
     ]
    },
    {
     "data": {
      "image/png": "[encoded data removed]",
      "text/plain": [
       "<Figure size 640x480 with 1 Axes>"
      ]
     },
     "metadata": {},
     "output_type": "display_data"
    },
    {
     "name": "stdout",
     "output_type": "stream",
     "text": [
      "\n",
      "S&P 500 daily returns (past year):\n",
      "Date\n",
      "2024-03-26   -0.002800\n",
      "2024-03-27    0.008631\n",
      "2024-03-28    0.001116\n",
      "2024-04-01   -0.002014\n",
      "2024-04-02   -0.007239\n",
      "                ...   \n",
      "2025-03-17    0.006416\n",
      "2025-03-18   -0.010654\n",
      "2025-03-19    0.010798\n",
      "2025-03-20   -0.002185\n",
      "2025-03-21    0.000825\n",
      "Name: Daily Return SP500, Length: 248, dtype: float64\n"
     ]
    },
    {
     "data": {
      "image/png": "[encoded data removed]",
      "text/plain": [
       "<Figure size 640x480 with 1 Axes>"
      ]
     },
     "metadata": {},
     "output_type": "display_data"
    }
   ],
   "source": [
    "\n",
    "spy_data.dropna(subset=[\"Daily Return SPY\"], inplace=True)\n",
    "sp500_data.dropna(subset=[\"Daily Return SP500\"], inplace=True)\n",
    "\n",
    "print(\"SPY daily returns (past year):\")\n",
    "print(spy_data[\"Daily Return SPY\"].describe())\n",
    "plt.plot(spy_data[\"Daily Return SPY\"])\n",
    "plt.title(\"SPY Daily Returns Past year\")\n",
    "plt.show()\n",
    "\n",
    "print(\"\\nS&P 500 daily returns (past year):\")\n",
    "print(sp500_data[\"Daily Return SP500\"])\n",
    "plt.plot(sp500_data[\"Daily Return SP500\"])\n",
    "plt.title(\"S&P 500 Daily Returns Past year\")\n",
    "plt.show()"
   ]
  },
  {
   "cell_type": "code",
   "execution_count": 11,
   "id": "fe88c63f-22ac-4af5-89df-6e44c2ad9de0",
   "metadata": {},
   "outputs": [
    {
     "name": "stdout",
     "output_type": "stream",
     "text": [
      "SPY Vol: 13.67%\n",
      "SP500 Vol:  13.78%\n"
     ]
    }
   ],
   "source": [
    "# estimate vol\n",
    "spy_vol = spy_data[\"Daily Return SPY\"].std() * np.sqrt(252)\n",
    "sp500_vol = sp500_data[\"Daily Return SP500\"].std() * np.sqrt(252)\n",
    "\n",
    "print(f\"SPY Vol: {spy_vol:.2%}\")\n",
    "print(f\"SP500 Vol: {sp500_vol: .2%}\")"
   ]
  },
  {
   "cell_type": "code",
   "execution_count": 12,
   "id": "93027c50-038f-45a3-ae50-552ccb0e7f8d",
   "metadata": {},
   "outputs": [],
   "source": [
    "# rolling vol\n",
    "spy_data[\"Rolling_Vol_20d\"] = spy_data[\"Daily Return SPY\"].rolling(20).std() * np.sqrt(252)\n",
    "sp500_data[\"Rolling_Vol_20d\"] = sp500_data[\"Daily Return SP500\"].rolling(20).std() * np.sqrt(252)\n",
    "\n",
    "# print(spy_data.head(20))\n",
    "# print(sp500_data.head(20))"
   ]
  },
  {
   "cell_type": "markdown",
   "id": "7d931d0e-5897-4220-8866-2d792b01eedf",
   "metadata": {},
   "source": [
    "## Regression to estimate beta of SPY to SP500"
   ]
  },
  {
   "cell_type": "code",
   "execution_count": 13,
   "id": "e772b56c-da8c-43c5-9958-50f5f2f51536",
   "metadata": {},
   "outputs": [],
   "source": [
    "# !pip install statsmodels\n",
    "import statsmodels.api as sm"
   ]
  },
  {
   "cell_type": "code",
   "execution_count": 14,
   "id": "9855b35d-5e0b-410c-ab5e-c4cc156d693e",
   "metadata": {},
   "outputs": [
    {
     "name": "stdout",
     "output_type": "stream",
     "text": [
      "(248, 2)\n",
      "            Daily Return SP500  Daily Return SPY\n",
      "Date                                            \n",
      "2024-03-26           -0.002800         -0.001847\n",
      "2024-03-27            0.008631          0.008404\n",
      "2024-03-28            0.001116         -0.000191\n",
      "2024-04-01           -0.002014         -0.001740\n",
      "2024-04-02           -0.007239         -0.006358\n"
     ]
    }
   ],
   "source": [
    "data = pd.concat([sp500_data[\"Daily Return SP500\"], spy_data[\"Daily Return SPY\"]], axis=1)\n",
    "print(data.shape)\n",
    "print(data.head())"
   ]
  },
  {
   "cell_type": "code",
   "execution_count": 15,
   "id": "7c0cf44c-e62a-4132-96d7-dc4bf1c13290",
   "metadata": {},
   "outputs": [
    {
     "name": "stdout",
     "output_type": "stream",
     "text": [
      "                            OLS Regression Results                            \n",
      "==============================================================================\n",
      "Dep. Variable:       Daily Return SPY   R-squared:                       0.997\n",
      "Model:                            OLS   Adj. R-squared:                  0.997\n",
      "Method:                 Least Squares   F-statistic:                 9.239e+04\n",
      "Date:                Sun, 23 Mar 2025   Prob (F-statistic):          7.56e-319\n",
      "Time:                        20:15:50   Log-Likelihood:                 1563.1\n",
      "No. Observations:                 248   AIC:                            -3122.\n",
      "Df Residuals:                     246   BIC:                            -3115.\n",
      "Df Model:                           1                                         \n",
      "Covariance Type:            nonrobust                                         \n",
      "======================================================================================\n",
      "                         coef    std err          t      P>|t|      [0.025      0.975]\n",
      "--------------------------------------------------------------------------------------\n",
      "const               4.979e-05   2.83e-05      1.761      0.079    -5.9e-06       0.000\n",
      "Daily Return SP500     0.9912      0.003    303.954      0.000       0.985       0.998\n",
      "==============================================================================\n",
      "Omnibus:                        2.198   Durbin-Watson:                   2.805\n",
      "Prob(Omnibus):                  0.333   Jarque-Bera (JB):                2.077\n",
      "Skew:                           0.063   Prob(JB):                        0.354\n",
      "Kurtosis:                       3.430   Cond. No.                         115.\n",
      "==============================================================================\n",
      "\n",
      "Notes:\n",
      "[1] Standard Errors assume that the covariance matrix of the errors is correctly specified.\n",
      "\n",
      "********\n",
      "\n",
      "\n",
      "Estimated alpha (intercept): 0.000050\n",
      "\n",
      "Estimated beta: 0.991\n"
     ]
    }
   ],
   "source": [
    "\"\"\"\n",
    "SPY_return = alpha + beta * SP500_return + error\n",
    "\"\"\"\n",
    "\n",
    "X = data[\"Daily Return SP500\"]\n",
    "y = data[\"Daily Return SPY\"]\n",
    "\n",
    "X = sm.add_constant(X)\n",
    "model = sm.OLS(y, X).fit()\n",
    "print(model.summary())\n",
    "print()\n",
    "print(\"********\")\n",
    "print()\n",
    "alpha = model.params[\"const\"]\n",
    "beta = model.params[\"Daily Return SP500\"]\n",
    "print(f\"\\nEstimated alpha (intercept): {alpha:.6f}\")\n",
    "print(f\"\\nEstimated beta: {beta:.3f}\")"
   ]
  },
  {
   "cell_type": "code",
   "execution_count": 22,
   "id": "cb0f61ef-9de9-4479-98d4-87cd45dccab1",
   "metadata": {},
   "outputs": [
    {
     "name": "stdout",
     "output_type": "stream",
     "text": [
      "\n",
      " Raw Daily Vols:\n",
      " SP500 daily vol: 0.00868\n",
      " SPY daily vol: 0.00861\n",
      " Systematic daily vol: 0.00860\n",
      " Idiosyncratic daily vol: 0.00044\n",
      "\n",
      " Annualized Vols (approx):\n",
      " SPY annualized vol: 0.14\n",
      " Systematic annualized vol: 0.14\n",
      " Idiosyncratic annualized vol: 0.01\n"
     ]
    }
   ],
   "source": [
    "# calculate volitilities\n",
    "sigma_spy = data[\"Daily Return SPY\"].std(ddof=1)\n",
    "sigma_sp500 = data[\"Daily Return SP500\"].std(ddof=1)\n",
    "sigma_systematic = beta * sigma_sp500\n",
    "sigma_idiosyncratic = np.sqrt(sigma_spy**2 - sigma_systematic**2)\n",
    "\n",
    "sigma_spy_annual = sigma_spy * np.sqrt(252)\n",
    "sigma_systematic_annual = sigma_systematic  * np.sqrt(252)\n",
    "sigma_idio_annual = sigma_idiosyncratic * np.sqrt(252)\n",
    "\n",
    "print(f\"\\n Raw Daily Vols:\")\n",
    "print(f\" SP500 daily vol: {sigma_sp500:.5f}\")\n",
    "print(f\" SPY daily vol: {sigma_spy:.5f}\")\n",
    "print(f\" Systematic daily vol: {sigma_systematic:.5f}\")\n",
    "print(f\" Idiosyncratic daily vol: {sigma_idiosyncratic:.5f}\")\n",
    "print(f\"\\n Annualized Vols (approx):\")\n",
    "print(f\" SPY annualized vol: {sigma_spy_annual:.2f}\")\n",
    "print(f\" Systematic annualized vol: {sigma_systematic_annual:.2f}\")\n",
    "print(f\" Idiosyncratic annualized vol: {sigma_idio_annual:.2f}\")\n",
    "\n"
   ]
  },
  {
   "cell_type": "markdown",
   "id": "0f9d4203-95f2-4fda-b387-d887dcb04ec6",
   "metadata": {},
   "source": [
    "### If 𝑋 and 𝑌 are independent, Var(X+Y)=Var(X)+Var(Y).\n",
    "### σ_ϵ = sqrt((σ_asset)^2 - (βσ_m)^2)"
   ]
  },
  {
   "cell_type": "code",
   "execution_count": 25,
   "id": "7d76fdaa-f07e-4b2d-9b34-223646eab327",
   "metadata": {},
   "outputs": [
    {
     "name": "stdout",
     "output_type": "stream",
     "text": [
      "The volitility of the market term: $86028\n",
      "The idiosyncratic volitility: $4439\n",
      "Dollar variance of SPY returns: $86143 \n"
     ]
    }
   ],
   "source": [
    "# Dollar variance of SPY (Net Market Value $10M)\n",
    "vol_market_term = 10000000 * beta * sigma_sp500\n",
    "idio_vol = 10000000 * sigma_idiosyncratic\n",
    "\n",
    "print(f\"The volitility of the market term: ${vol_market_term:.0f}\")\n",
    "print(f\"The idiosyncratic volitility: ${idio_vol:.0f}\")\n",
    "\n",
    "dollar_variance_SPY = np.sqrt((vol_market_term)**2 + (idio_vol)**2)\n",
    "print(f\"Dollar variance of SPY returns: ${dollar_variance_SPY:.0f} \")"
   ]
  },
  {
   "cell_type": "code",
   "execution_count": null,
   "id": "468146bb-3014-48ea-9d9a-b62d61045a3b",
   "metadata": {},
   "outputs": [],
   "source": []
  }
 ],
 "metadata": {
  "kernelspec": {
   "display_name": "Python 3 (ipykernel)",
   "language": "python",
   "name": "python3"
  },
  "language_info": {
   "codemirror_mode": {
    "name": "ipython",
    "version": 3
   },
   "file_extension": ".py",
   "mimetype": "text/x-python",
   "name": "python",
   "nbconvert_exporter": "python",
   "pygments_lexer": "ipython3",
   "version": "3.11.11"
  }
 },
 "nbformat": 4,
 "nbformat_minor": 5
}
